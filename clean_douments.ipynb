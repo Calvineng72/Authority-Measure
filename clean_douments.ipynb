{
 "cells": [
  {
   "cell_type": "code",
   "execution_count": 1,
   "metadata": {},
   "outputs": [
    {
     "name": "stdout",
     "output_type": "stream",
     "text": [
      "/Users/calvineng/Desktop/Research/CBA_Authority_Measure/cba_samples\n"
     ]
    }
   ],
   "source": [
    "import os\n",
    "\n",
    "# sets the output directory\n",
    "cba_path = os.path.join(\".\", \"cleaned_cba_samples\")\n",
    "if not os.path.isdir(cba_path):\n",
    "    os.mkdir(cba_path)\n",
    "\n",
    "# sets the input directory\n",
    "file_path = os.getcwd() + '/cba_samples'\n",
    "print(file_path)\n",
    "# file_path = '/Users/calvineng/Dropbox/Calvin_Eng/cba_text_analysis/cba_txt_2009'"
   ]
  },
  {
   "cell_type": "code",
   "execution_count": 2,
   "metadata": {},
   "outputs": [],
   "source": [
    "from itertools import dropwhile, takewhile\n",
    "import io\n",
    "import re\n",
    "\n",
    "# retrieves the type of document\n",
    "def extract_document_type(file_path):\n",
    "    with io.open(file_path, 'r', encoding='utf8') as f:\n",
    "        lines = (line.strip() for line in f)   \n",
    "        title_start_flage = dropwhile(lambda line: '<STARTofTITLE>' not in line, lines)\n",
    "        next(title_start_flage,\"\")\n",
    "        title_end_flag = takewhile(lambda line: '<ENDofTITLE>' not in line, title_start_flage)\n",
    "        title = ''.join(title_end_flag).strip()\n",
    "        if 'Extrato Acordo Coletivo' in title:\n",
    "            acordo, extrato = 1, 1\n",
    "        elif 'Extrato Convenção Coletiva' in title:\n",
    "            acordo, extrato = 0, 1\n",
    "        elif 'Extrato Termo Aditivo de Acordo Coletivo' in title:\n",
    "            acordo, extrato = 1, 0\n",
    "        elif 'Extrato Termo Aditivo de Convenção Coletiva' in title:\n",
    "            acordo, extrato = 0, 0\n",
    "        else:\n",
    "            acordo, extrato = '', ''\n",
    "\n",
    "    return acordo, extrato\n",
    "\n",
    "# retrieves the validity\n",
    "def extract_validity(file_path):\n",
    "    with io.open(file_path, 'r', encoding='utf8') as f:\n",
    "        lines = (line.strip() for line in f) \n",
    "        validity_start_flag = dropwhile(lambda line: '<STARTofVALIDITY>' not in line, lines)\n",
    "        next(validity_start_flag,\"\")\n",
    "        validity_end_flag = takewhile(lambda line: '<ENDofVALIDITY>' not in line, validity_start_flag)\n",
    "        validity = ''.join(validity_end_flag).strip()\n",
    "        if 'carimbo' in validity:\n",
    "            validity = 1\n",
    "        elif 'semvalorlegal' in validity:\n",
    "            validity = 0\n",
    "        else:\n",
    "            validity = ''\n",
    "\n",
    "    return validity\n",
    "\n",
    "# extracts the text of clauses\n",
    "def extract_clause_texts(file_path):\n",
    "    with io.open(file_path, 'r', encoding='utf8') as f:\n",
    "        # extracts text\n",
    "        lines = (line.strip() for line in f)  \n",
    "        text_start_flag = dropwhile(lambda line: '<STARTofTEXT>' not in line, lines)\n",
    "        next(text_start_flag, \"\")\n",
    "        text_end_flag = takewhile(lambda line: '<ENDofTEXT>' not in line, text_start_flag)\n",
    "        text = ' '.join(text_end_flag).strip()\n",
    "\n",
    "        # cleans text\n",
    "        phrases = ['PARÁGRAFO ÚNICO', 'PARÁGRAFO PRIMEIRO', 'PARÁGRAFO SEGUNDO', 'PARÁGRAFO TERCEIRO', \n",
    "            'PARÁGRAFO QUARTO', 'PARÁGRAFO QUINTO', 'PARÁGRAFO SEXTO', 'PARÁGRAFO SÉTIMO',\n",
    "            'PARÁGRAFO OITAVO', 'PARÁGRAFO NONO', 'PARÁGRAFO DÉCIMO']\n",
    "        pattern = '|'.join(fr\"{phrase}\\s?[:–-]\\s?\" for phrase in phrases)\n",
    "        text = re.sub(pattern, ' ', text, flags=re.IGNORECASE)\n",
    "        text = text.replace('\\xa0',' ')\n",
    "        text = text.replace('|',' ')\n",
    "        text = text.replace('R$', ' ')\n",
    "        text = text.replace('%', ' ')\n",
    "        text = text.replace(\"'\", ' ')\n",
    "        text = text.replace('\"', ' ')\n",
    "        text = text.replace('“', ' ')\n",
    "        text = text.replace('”', ' ')\n",
    "        text = text.replace('·', ' ')\n",
    "        text = text.replace('CEEE D', 'CEEE-D')\n",
    "        text = re.sub(r'\\.\\s[–-]|\\.\\s?[–-]', '. ', text) # '. –', '. -', '.–', '.-'\n",
    "        text = re.sub(r'\\(.*?\\)', ' ', text) # (...)\n",
    "        text = re.sub(r'[A-Z]\\) [–-]', ' ', text, flags=re.IGNORECASE) # A) -\n",
    "        text = re.sub(r'[A-Z]\\)[–-]', ' ', text, flags=re.IGNORECASE) # A)-\n",
    "        text = re.sub(r'[A-Z]\\)', ' ', text, flags=re.IGNORECASE) # A)\n",
    "        text = re.sub(r'[A-Z]\\.\\d+\\)', ' ', text, flags=re.IGNORECASE) # a.1)\n",
    "        text = re.sub(r'§ \\d+º [–-]', ' ', text) # § 1º -\n",
    "        text = text.replace('§', ' ')\n",
    "        # text = re.sub(r'(?<=[.,:;!?–\\-)])\\s*\\d+\\.', ' ', text) # 1.\n",
    "        text = re.sub(r'\\d+º\\s.*?trimestre\\s–\\s', ' ', text, flags=re.IGNORECASE) # 1º trimestre –\n",
    "        text = re.sub(r'\\s+([.,:;?!])', r'\\1', text) # spaces before punctuation\n",
    "        text = re.sub('\\s{2,}', ' ', text) # unessecary white spaces\n",
    "\n",
    "    return text"
   ]
  },
  {
   "cell_type": "code",
   "execution_count": 3,
   "metadata": {},
   "outputs": [],
   "source": [
    "def output_all(file_path_x, files_x):\n",
    "    contract_id = files_x[:-4]\n",
    "\n",
    "    file_path = os.path.join(file_path_x, files_x)\n",
    "    acordo, extrato = extract_document_type(file_path)\n",
    "    validity = extract_validity(file_path)\n",
    "\n",
    "    if acordo == 1 and extrato == 1 and validity == 1:\n",
    "        text = extract_clause_texts(file_path)\n",
    "        file_destination = os.path.join(cba_path, contract_id + '_cleaned.txt')\n",
    "        with io.open(file_destination, 'w', encoding='utf8') as f:\n",
    "            f.write(text)"
   ]
  },
  {
   "cell_type": "code",
   "execution_count": 4,
   "metadata": {},
   "outputs": [
    {
     "name": "stderr",
     "output_type": "stream",
     "text": [
      "100%|██████████| 1296/1296 [00:07<00:00, 162.41it/s]\n"
     ]
    }
   ],
   "source": [
    "from tqdm import tqdm\n",
    "\n",
    "for file in tqdm(os.listdir(file_path)):\n",
    "    if file == '.DS_Store':\n",
    "        continue\n",
    "    \n",
    "    try:\n",
    "        output_all(file_path, file)\n",
    "    except Exception as e:\n",
    "        print(f\"Error processing file: {file}\")\n",
    "        print(e)"
   ]
  }
 ],
 "metadata": {
  "kernelspec": {
   "display_name": "base",
   "language": "python",
   "name": "python3"
  },
  "language_info": {
   "codemirror_mode": {
    "name": "ipython",
    "version": 3
   },
   "file_extension": ".py",
   "mimetype": "text/x-python",
   "name": "python",
   "nbconvert_exporter": "python",
   "pygments_lexer": "ipython3",
   "version": "3.9.13"
  },
  "orig_nbformat": 4
 },
 "nbformat": 4,
 "nbformat_minor": 2
}
